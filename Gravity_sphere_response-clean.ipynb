{
 "cells": [
  {
   "cell_type": "markdown",
   "metadata": {},
   "source": [
    "## Interactive grav model for a sphere"
   ]
  },
  {
   "cell_type": "code",
   "execution_count": 12,
   "metadata": {},
   "outputs": [],
   "source": [
    "import numpy as np\n",
    "%matplotlib inline\n",
    "import matplotlib.pyplot as plt\n",
    "from ipywidgets import interact\n",
    "from matplotlib import gridspec\n",
    "from matplotlib.patches import Circle"
   ]
  },
  {
   "cell_type": "code",
   "execution_count": 13,
   "metadata": {},
   "outputs": [],
   "source": [
    "# gz = G * 4/3 * pi * deltarho * r^3 * z / ((x^2+z^2)^3/2)\n",
    "# where:\n",
    "# gz = vertical grav response (mgal)\n",
    "# G = gravitational constant\n",
    "# deltarho = density contrast (kg/m3)\n",
    "# r = sphere radius (m)\n",
    "# x = horizontal distance from sphere centre (m)\n",
    "# z = depth from surface to the centre of the sphere (m)"
   ]
  },
  {
   "cell_type": "code",
   "execution_count": 14,
   "metadata": {},
   "outputs": [],
   "source": [
    "# assigne constants and defaults\n",
    "gconst = 6.67e-11 # m3 kg-1 s-2\n",
    "deltarho = 1000 # kg/m3\n",
    "r = 40 # m\n",
    "z = 200 # m\n",
    "x = np.arange(-400,400,1) # m\n",
    "\n",
    "gz = gconst*(4/3)*np.pi*deltarho*r**3* (z/(x**2+z**2)**(3/2))*1e5"
   ]
  },
  {
   "cell_type": "markdown",
   "metadata": {},
   "source": [
    "## Make figure"
   ]
  },
  {
   "cell_type": "code",
   "execution_count": 21,
   "metadata": {},
   "outputs": [
    {
     "data": {
      "application/vnd.jupyter.widget-view+json": {
       "model_id": "29897372784d410d8ac080641ebde0f1",
       "version_major": 2,
       "version_minor": 0
      },
      "text/plain": [
       "interactive(children=(IntSlider(value=2500, description='Delta_Rho', max=5000, step=500), IntSlider(value=100,…"
      ]
     },
     "metadata": {},
     "output_type": "display_data"
    }
   ],
   "source": [
    "deltarhomax = 5000\n",
    "rmax = 200\n",
    "zmax = 400\n",
    "zmed = 250\n",
    "gconst = 6.67e-11 # m3 kg-1 s-2\n",
    "maxgz = gconst*(4/3)*np.pi*deltarhomax*rmax**3* (z/(0**2+zmed**2)**(3/2))*1e5\n",
    "\n",
    "@interact(Delta_Rho=(0, deltarhomax, 500), Radius=(10,rmax,10), Depth=(20,400,20))\n",
    "def show(Delta_Rho, Radius, Depth):\n",
    "    r = Radius\n",
    "    deltarho = Delta_Rho\n",
    "    z = Depth\n",
    "    \n",
    "    x = np.arange(-400,400,1) # m\n",
    "    if r > z:\n",
    "        z = r\n",
    "    else:\n",
    "        z=z\n",
    "    \n",
    "    # Calculate the gravity response\n",
    "    gz = gconst*(4/3)*np.pi*deltarho*r**3* (z/(x**2+z**2)**(3/2))*1e5\n",
    "\n",
    "    # setup the plot and subplots\n",
    "    fig = plt.figure(figsize=(8, 6)) \n",
    "    fig.suptitle(\"Gravity respons from a buried sphere [mGal]\", fontsize=16)\n",
    "    gs = gridspec.GridSpec(2, 1, height_ratios=[1, 3]) \n",
    "    ax = plt.subplot(gs[0])    \n",
    "    #plt.tight_layout(h_pad=0.0)\n",
    "    \n",
    "    # Plot of the gravity response\n",
    "    ax.plot(x, gz)\n",
    "    ax.set_title(\"variables:  Delta rho [kg/m3],  Radius [m],  Burial depth [m]\", fontsize=10)\n",
    "    ax.set_xlim((np.min(x), np.max(x)))\n",
    "    ax.set_ylim(0, maxgz)\n",
    "    ax.set_ylabel('Gravity anom. [mGal]')\n",
    "\n",
    "    # Plot of the buried sphere\n",
    "    ax = plt.subplot(gs[1])\n",
    "    ax.set_xlim((np.min(x), np.max(x)))\n",
    "    ax.set_ylim((zmax, 0))\n",
    "    sphere = Circle((0, z), r, color='r')\n",
    "    ax.set_adjustable('datalim')\n",
    "    ax.set_aspect('equal')\n",
    "    ax.set_xlabel('Distance [m]')\n",
    "    ax.set_ylabel('Depth [m]')\n",
    "    ax.add_artist(sphere)"
   ]
  },
  {
   "cell_type": "code",
   "execution_count": null,
   "metadata": {},
   "outputs": [],
   "source": []
  }
 ],
 "metadata": {
  "kernelspec": {
   "display_name": "geocomp",
   "language": "python",
   "name": "geocomp"
  },
  "language_info": {
   "codemirror_mode": {
    "name": "ipython",
    "version": 3
   },
   "file_extension": ".py",
   "mimetype": "text/x-python",
   "name": "python",
   "nbconvert_exporter": "python",
   "pygments_lexer": "ipython3",
   "version": "3.6.5"
  }
 },
 "nbformat": 4,
 "nbformat_minor": 2
}
